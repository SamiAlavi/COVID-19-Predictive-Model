{
  "nbformat": 4,
  "nbformat_minor": 0,
  "metadata": {
    "kernelspec": {
      "display_name": "Python 3",
      "language": "python",
      "name": "python3"
    },
    "language_info": {
      "codemirror_mode": {
        "name": "ipython",
        "version": 3
      },
      "file_extension": ".py",
      "mimetype": "text/x-python",
      "name": "python",
      "nbconvert_exporter": "python",
      "pygments_lexer": "ipython3",
      "version": "3.7.7"
    },
    "colab": {
      "name": "Assignment_2.ipynb",
      "provenance": [],
      "collapsed_sections": []
    }
  },
  "cells": [
    {
      "cell_type": "markdown",
      "metadata": {
        "id": "abfBToxLw7p5",
        "colab_type": "text"
      },
      "source": [
        "# Classification and Error Metrics"
      ]
    },
    {
      "cell_type": "code",
      "metadata": {
        "id": "nB8bD2Umx6Tg",
        "colab_type": "code",
        "colab": {}
      },
      "source": [
        "#imports\n",
        "import pandas as pd\n",
        "import numpy as np\n",
        "import re\n",
        "import requests\n",
        "from os import mkdir\n",
        "          \n",
        "def printRed(string): \n",
        "  print(\"\\x1b[31m%s\\x1b[0m\"%(string))\n",
        "\n",
        "def download_url(url, save_path):  \n",
        "  r = requests.get(url, stream=True)\n",
        "  with open(save_path, 'wb') as fd:\n",
        "      for chunk in r.iter_content(chunk_size=128):\n",
        "          fd.write(chunk)\n",
        "\n",
        "# downloading COVID19_open_line_list.csv and time_series_covid_19_confirmed.csv from github\n",
        "# need to upload COVID19_line_list_data.csv manually\n",
        "\n",
        "url = 'https://raw.githubusercontent.com/beoutbreakprepared/nCoV2019/master/latest_data/latestdata.csv'\n",
        "download_url(url,'/content/COVID19_open_line_list.csv')\n",
        "url = 'https://raw.githubusercontent.com/CSSEGISandData/COVID-19/master/csse_covid_19_data/csse_covid_19_time_series/time_series_covid19_confirmed_global.csv'\n",
        "download_url(url,'/content/time_series_covid19_confirmed_global.csv')\n",
        "url = 'https://raw.githubusercontent.com/CSSEGISandData/COVID-19/master/csse_covid_19_data/csse_covid_19_daily_reports/03-31-2020.csv'\n",
        "download_url(url,'/content/csse_covid_19_daily_reports.csv')"
      ],
      "execution_count": 0,
      "outputs": []
    },
    {
      "cell_type": "markdown",
      "metadata": {
        "id": "Pe8vTd0Ew7p7",
        "colab_type": "text"
      },
      "source": [
        "## Introduction\n",
        "After data analysis and visualization, identify the key features, convert them to suitable numeric format, and use only the processed features for further processing and prediction. Plot and observe the spread of the disease in other countries and identify top countries whose data can be used to predict the spread in Pakistan."
      ]
    },
    {
      "cell_type": "markdown",
      "metadata": {
        "id": "BR2sXyruw7p8",
        "colab_type": "text"
      },
      "source": [
        "# Section 1"
      ]
    },
    {
      "cell_type": "markdown",
      "metadata": {
        "id": "_AXuJnVRw7p-",
        "colab_type": "text"
      },
      "source": [
        "In this section will use [Novel Corona Virus 2019 Dataset](https://www.kaggle.com/sudalairajkumar/novel-corona-virus-2019-dataset) to classify if a patient will survive the COVID-19. You will use `COVID19_line_list_data.csv` and `COVID19_open_line_list.csv` for this assignment."
      ]
    },
    {
      "cell_type": "markdown",
      "metadata": {
        "id": "k021i3hFw7p-",
        "colab_type": "text"
      },
      "source": [
        "## Question 1\n",
        "Explore both the CSVs mentioned above and argue which has more useful features for correctly classifying if a patient is likely to survive the COVID-19. Mention specific features from both files that will and will not correlate to the target (outcome)."
      ]
    },
    {
      "cell_type": "code",
      "metadata": {
        "id": "LCbJ1_CktQVA",
        "colab_type": "code",
        "outputId": "8f6ed2b2-881e-45ec-8350-9ebb6b2a3295",
        "colab": {
          "base_uri": "https://localhost:8080/",
          "height": 326
        }
      },
      "source": [
        "def getnoncorr(cols,corr):\n",
        "  notcorr = list()                \n",
        "  for i in columns:\n",
        "    if i not in corr:\n",
        "      notcorr.append(i)\n",
        "  return notcorr\n",
        "\n",
        "printRed('COVID19_open_line_list.csv has more useful features for correctly \\n\\\n",
        "classifying if a patient is likely to survive the COVID-19 as it \\n\\\n",
        "contains the most important features (symptoms, date_admission_hospital).')\n",
        "\n",
        "df = pd.read_csv('COVID19_line_list_data.csv')\n",
        "columns = df.columns[:-6]\n",
        "df = df[columns]\n",
        "\n",
        "corr = ['location','country','gender','age','symptom_onset','hosp_visit_date',\n",
        "        'exposure_start','exposure_end']\n",
        "\n",
        "printRed('\\nCOVID19_line_list_data.csv (correlating to the outcome)')\n",
        "print(corr)\n",
        "printRed('\\nCOVID19_line_list_data.csv (not correlating to the outcome)')\n",
        "print(getnoncorr(columns,corr))\n",
        "\n",
        "df_org = pd.read_csv('COVID19_open_line_list.csv')\n",
        "columns = df_org.columns\n",
        "df_org = df_org[columns]           \n",
        "\n",
        "corr = ['age','sex','city','province','country',\n",
        "                'date_onset_symptoms','date_admission_hospital','symptoms',\n",
        "                'lives_in_Wuhan','outcome']\n",
        "\n",
        "\n",
        "printRed('\\nCOVID19_open_line_list.csv (correlating to the outcome)')\n",
        "print(corr)\n",
        "printRed('\\nCOVID19_open_line_list.csv (not correlating to the outcome)')\n",
        "print(getnoncorr(columns,corr))"
      ],
      "execution_count": 4,
      "outputs": [
        {
          "output_type": "stream",
          "text": [
            "\u001b[31mCOVID19_open_line_list.csv has more useful features for correctly \n",
            "classifying if a patient is likely to survive the COVID-19 as it \n",
            "contains the most important features (symptoms, date_admission_hospital).\u001b[0m\n",
            "\u001b[31m\n",
            "COVID19_line_list_data.csv (correlating to the outcome)\u001b[0m\n",
            "['location', 'country', 'gender', 'age', 'symptom_onset', 'hosp_visit_date', 'exposure_start', 'exposure_end']\n",
            "\u001b[31m\n",
            "COVID19_line_list_data.csv (not correlating to the outcome)\u001b[0m\n",
            "['id', 'case_in_country', 'reporting date', 'Unnamed: 3', 'summary', 'If_onset_approximated', 'visiting Wuhan', 'from Wuhan', 'death', 'recovered', 'symptom', 'source', 'link']\n"
          ],
          "name": "stdout"
        },
        {
          "output_type": "stream",
          "text": [
            "/usr/local/lib/python3.6/dist-packages/IPython/core/interactiveshell.py:2718: DtypeWarning: Columns (1,2,10,11,13,14,15,16,17,18,19,20,22,23,24,25,26,27,31,32) have mixed types.Specify dtype option on import or set low_memory=False.\n",
            "  interactivity=interactivity, compiler=compiler, result=result)\n"
          ],
          "name": "stderr"
        },
        {
          "output_type": "stream",
          "text": [
            "\u001b[31m\n",
            "COVID19_open_line_list.csv (correlating to the outcome)\u001b[0m\n",
            "['age', 'sex', 'city', 'province', 'country', 'date_onset_symptoms', 'date_admission_hospital', 'symptoms', 'lives_in_Wuhan', 'outcome']\n",
            "\u001b[31m\n",
            "COVID19_open_line_list.csv (not correlating to the outcome)\u001b[0m\n",
            "['ID', 'wuhan(0)_not_wuhan(1)', 'latitude', 'longitude', 'geo_resolution', 'date_confirmation', 'travel_history_dates', 'travel_history_location', 'reported_market_exposure', 'additional_information', 'chronic_disease_binary', 'chronic_disease', 'source', 'sequence_available', 'date_death_or_discharge', 'notes_for_discussion', 'location', 'admin3', 'admin2', 'admin1', 'country_new', 'admin_id', 'data_moderator_initials', 'travel_history_binary']\n"
          ],
          "name": "stdout"
        }
      ]
    },
    {
      "cell_type": "markdown",
      "metadata": {
        "id": "flo7dQ4Ew7qF",
        "colab_type": "text"
      },
      "source": [
        "## Question 2\n",
        "\n",
        "Import the chosen file and do the following:\n",
        "\n",
        "* Examine the data types--there are many columns, so it might be wise to use value counts\n",
        "* Determine if the floating point values need to be scaled\n",
        "* Remove extra feature columns\n",
        "* Encode the non-numeric values as an integer\n",
        "* Determine the breakdown of target values"
      ]
    },
    {
      "cell_type": "code",
      "metadata": {
        "id": "6mwmHRpDzKAY",
        "colab_type": "code",
        "colab": {}
      },
      "source": [
        "#encoding symptoms\n",
        "\n",
        "def formatsymp(row, st, splitt=True):\n",
        "  if splitt:\n",
        "    row = row.split(st)\n",
        "  for i in range(len(row)):\n",
        "    row[i] = row[i].strip().lower()    \n",
        "    if 'fever' in row[i]:\n",
        "      row[i] = 'fever'\n",
        "  return row\n",
        "\n",
        "def extractsymptoms(row):\n",
        "  row = str(row)\n",
        "  if ',' in row:\n",
        "    return formatsymp(row, ',')\n",
        "  elif ';' in row:\n",
        "    return formatsymp(row, ';')\n",
        "  elif 'and' in row:\n",
        "    return formatsymp(row, 'and')\n",
        "  else:\n",
        "    return formatsymp([row], '', False)\n",
        "\n",
        "def addsymp(symp, uniq):\n",
        "  add = 0\n",
        "  for i in symp:\n",
        "    add+= uniq.index(i)\n",
        "  return add\n",
        "\n",
        "\n",
        "def encodesymp(col):\n",
        "  uniq = list()\n",
        "  encoded = list()\n",
        "  for i in col:\n",
        "    symptoms = extractsymptoms(i) #extracting individial symptoms\n",
        "    for s in symptoms:\n",
        "      if s not in uniq:\n",
        "        uniq.append(s)\n",
        "    encoded.append(addsymp(symptoms, uniq)) #encoding by adding symptoms values\n",
        "  return uniq, encoded"
      ],
      "execution_count": 0,
      "outputs": []
    },
    {
      "cell_type": "code",
      "metadata": {
        "id": "D1-TvcgQzXH8",
        "colab_type": "code",
        "colab": {}
      },
      "source": [
        "#encoding dates (date_admission_hospital - date_onset_symptoms)\n",
        "from datetime import date \n",
        "\n",
        "def difdays(a,b):\n",
        "  try:\n",
        "    date1 = date(int(a[2][:4]),int(a[1]),int(a[0]))\n",
        "  except:\n",
        "    date1 = date(int(a[2]),int(a[0]),int(a[1]))\n",
        "  try:\n",
        "    date2 = date(int(b[2]),int(b[1]),int(b[0]))\n",
        "  except:\n",
        "    date2 = date(int(b[2]),int(b[0]),int(b[1]))\n",
        "  diff = (date2-date1).days\n",
        "  if diff<0:\n",
        "    diff=0\n",
        "  return diff\n",
        "\n",
        "def encodedates(d1,d2): \n",
        "  encoded = list()\n",
        "  summ = list()\n",
        "  for i in range(len(d1)):\n",
        "    if '.' in d1[i] and '.' in d2[i]:\n",
        "      a = d1[i].split('.')\n",
        "      b = d2[i].split('.')\n",
        "      if len(a)==3 and len(b)==3:\n",
        "        diff = difdays(a,b)*1.0\n",
        "        encoded.append(diff)\n",
        "        summ.append(diff)\n",
        "      else:\n",
        "        a[2] = a[2][:4]\n",
        "        b[2] = b[2][:4]\n",
        "        diff = difdays(a[:3],b[:3])*1.0\n",
        "        encoded.append(diff)\n",
        "        summ.append(diff)\n",
        "    else:\n",
        "      encoded.append('~')\n",
        "  encoded = np.array(encoded)\n",
        "  avg = round(sum(summ)/len(summ))\n",
        "  return avg, np.where(encoded=='~',avg,encoded).astype(float) # replacing no data with avg"
      ],
      "execution_count": 0,
      "outputs": []
    },
    {
      "cell_type": "code",
      "metadata": {
        "id": "T57l5XAY0VdZ",
        "colab_type": "code",
        "colab": {}
      },
      "source": [
        "#encoding lives_in_Wuhan\n",
        "\n",
        "def encodewuhan(col):\n",
        "  encoded = list()\n",
        "  for i in col:\n",
        "    if i=='yes' or 'Wuhan' in i:\n",
        "      encoded.append(1)\n",
        "    else:\n",
        "      encoded.append(0)\n",
        "  return encoded"
      ],
      "execution_count": 0,
      "outputs": []
    },
    {
      "cell_type": "code",
      "metadata": {
        "id": "9x5JEsRJGCqd",
        "colab_type": "code",
        "colab": {}
      },
      "source": [
        "def encodeage(col):\n",
        "  encoded = list()\n",
        "  summ = list()\n",
        "  for i in col:\n",
        "    if i!='~':\n",
        "      if '-' in str(i):\n",
        "        ind = i.index('-')\n",
        "        age = i[ind+1:]\n",
        "        if len(age)==0:\n",
        "          age = i[:ind]\n",
        "        summ.append(int(age))\n",
        "        encoded.append(int(age))\n",
        "      else:\n",
        "        summ.append(int(age))\n",
        "        encoded.append(int(age))\n",
        "    else:\n",
        "      encoded.append('~')\n",
        "\n",
        "  encoded = np.array(encoded)\n",
        "  avg = round(sum(summ)/len(summ))\n",
        "  return avg, np.where(encoded=='~',avg,encoded).astype(int)  # replacing no data with avg"
      ],
      "execution_count": 0,
      "outputs": []
    },
    {
      "cell_type": "code",
      "metadata": {
        "id": "sk_CdGShdkYm",
        "colab_type": "code",
        "colab": {}
      },
      "source": [
        "def encodesex(col):\n",
        "  encoded = list()\n",
        "  for i in col:\n",
        "    if i=='female':\n",
        "      encoded.append(1)\n",
        "    elif i=='male':\n",
        "      encoded.append(2)\n",
        "    else:\n",
        "      encoded.append(0)\n",
        "  return encoded"
      ],
      "execution_count": 0,
      "outputs": []
    },
    {
      "cell_type": "code",
      "metadata": {
        "id": "PJHDENWEg72S",
        "colab_type": "code",
        "colab": {}
      },
      "source": [
        "def encodecpc(cpc):\n",
        "  uniqdict = dict()\n",
        "  encoded = list()\n",
        "  columns = ['city','province','country']\n",
        "  for i in columns:\n",
        "    enc = list()\n",
        "    uniq = ['~']\n",
        "    col = cpc[i].values\n",
        "    for j in col:\n",
        "      if j not in uniq:\n",
        "        uniq.append(j)\n",
        "      enc.append(uniq.index(j))\n",
        "      \n",
        "    encoded.append(enc)\n",
        "    uniqdict.update({i:uniq})\n",
        "\n",
        "  return uniqdict,encoded"
      ],
      "execution_count": 0,
      "outputs": []
    },
    {
      "cell_type": "code",
      "metadata": {
        "id": "Z4_nvZwBmWIU",
        "colab_type": "code",
        "colab": {}
      },
      "source": [
        "def formatoutcome(i):\n",
        "  dead = ['dead','death','deceased','died']\n",
        "  stable = ['alive','symptoms only improved with cough. currently hospitalized for follow-up.']\n",
        "  unstable = ['severe','severe illness','unstable']\n",
        "  if i in dead:\n",
        "    i = 'dead'\n",
        "  elif 'critical condition' in i:\n",
        "    i = 'dead'\n",
        "  elif i in unstable:\n",
        "    i = 'dead'\n",
        "    \n",
        "  elif 'discharge' in i:\n",
        "    i = 'recovered'\n",
        "  elif 'recover' in i:\n",
        "    i = 'recovered'\n",
        "  elif 'released' in i:\n",
        "    i = 'recovered'\n",
        "  elif 'not hospitalized' in i:\n",
        "    i = 'recovered'\n",
        "  elif 'stable' in i:\n",
        "    i = 'recovered'\n",
        "  elif 'treat' in i:\n",
        "    i = 'recovered'\n",
        "  elif i in stable:\n",
        "    i = 'recovered'\n",
        "\n",
        "  return i\n",
        "\n",
        "def encodeoutcome(col):\n",
        "  col = [x.lower() for x in col]\n",
        "  uniq = list()\n",
        "  encoded = list()\n",
        "  for i in col:\n",
        "    i = formatoutcome(i)\n",
        "    if i not in uniq:\n",
        "      uniq.append(i)\n",
        "    encoded.append(uniq.index(i))\n",
        "\n",
        "  return uniq,encoded     \n"
      ],
      "execution_count": 0,
      "outputs": []
    },
    {
      "cell_type": "code",
      "metadata": {
        "id": "Eo5m9g4hw7qG",
        "colab_type": "code",
        "outputId": "fb0c2f2a-a40b-4e54-f0ad-e47c7c487ebb",
        "colab": {
          "base_uri": "https://localhost:8080/",
          "height": 419
        }
      },
      "source": [
        "df = df_org.copy()\n",
        "df = df[corr]\n",
        "df = df.replace(np.nan,'~')\n",
        "df = df[df['outcome'] != '~']\n",
        "\n",
        "age = df['age'].values\n",
        "sex = df['sex'].values\n",
        "cpc = df[['city','province','country']]\n",
        "allsymp = df['symptoms'].values\n",
        "onsetsymp = df['date_onset_symptoms'].values\n",
        "admissymp = df['date_admission_hospital'].values\n",
        "liveswuhan = df['lives_in_Wuhan'].values\n",
        "outcome = df['outcome'].values\n",
        "\n",
        "avgage, encage = encodeage(age)                       # special encoding for age\n",
        "encsex = encodesex(sex)                               # special encoding for sex\n",
        "uniqcpc, enccpc = encodecpc(cpc)                      # special encoding for city, province, country (cpc)\n",
        "uniqsymp, encsymp = encodesymp(allsymp)               # special encoding for symptoms\n",
        "avgdate, encdates = encodedates(onsetsymp, admissymp) # special encoding for dates (date_admission_hospital - date_onset_symptoms)\n",
        "encwuhan = encodewuhan(liveswuhan)                    # special encoding for lives_in_Wuhan\n",
        "uniqoutcome, encoutcome = encodeoutcome(outcome)      # special encoding for outcome\n",
        "\n",
        "encdf = df.copy()\n",
        "encdf['age'] = encage\n",
        "encdf['sex'] = encsex\n",
        "encdf['city'] = enccpc[0]\n",
        "encdf['province'] = enccpc[1]\n",
        "encdf['country'] = enccpc[2]\n",
        "encdf['symptoms'] = encsymp\n",
        "encdf['date_admission_hospital'] = encdates\n",
        "encdf = encdf.drop(['date_onset_symptoms'],axis=1)\n",
        "encdf['lives_in_Wuhan'] = encwuhan\n",
        "encdf['outcome'] = encoutcome\n",
        "\n",
        "encdf"
      ],
      "execution_count": 12,
      "outputs": [
        {
          "output_type": "execute_result",
          "data": {
            "text/html": [
              "<div>\n",
              "<style scoped>\n",
              "    .dataframe tbody tr th:only-of-type {\n",
              "        vertical-align: middle;\n",
              "    }\n",
              "\n",
              "    .dataframe tbody tr th {\n",
              "        vertical-align: top;\n",
              "    }\n",
              "\n",
              "    .dataframe thead th {\n",
              "        text-align: right;\n",
              "    }\n",
              "</style>\n",
              "<table border=\"1\" class=\"dataframe\">\n",
              "  <thead>\n",
              "    <tr style=\"text-align: right;\">\n",
              "      <th></th>\n",
              "      <th>age</th>\n",
              "      <th>sex</th>\n",
              "      <th>city</th>\n",
              "      <th>province</th>\n",
              "      <th>country</th>\n",
              "      <th>date_admission_hospital</th>\n",
              "      <th>symptoms</th>\n",
              "      <th>lives_in_Wuhan</th>\n",
              "      <th>outcome</th>\n",
              "    </tr>\n",
              "  </thead>\n",
              "  <tbody>\n",
              "    <tr>\n",
              "      <th>3</th>\n",
              "      <td>59</td>\n",
              "      <td>2</td>\n",
              "      <td>1</td>\n",
              "      <td>1</td>\n",
              "      <td>1</td>\n",
              "      <td>4.0</td>\n",
              "      <td>0</td>\n",
              "      <td>0</td>\n",
              "      <td>0</td>\n",
              "    </tr>\n",
              "    <tr>\n",
              "      <th>32</th>\n",
              "      <td>72</td>\n",
              "      <td>0</td>\n",
              "      <td>2</td>\n",
              "      <td>2</td>\n",
              "      <td>2</td>\n",
              "      <td>4.0</td>\n",
              "      <td>0</td>\n",
              "      <td>0</td>\n",
              "      <td>0</td>\n",
              "    </tr>\n",
              "    <tr>\n",
              "      <th>33</th>\n",
              "      <td>72</td>\n",
              "      <td>0</td>\n",
              "      <td>2</td>\n",
              "      <td>2</td>\n",
              "      <td>2</td>\n",
              "      <td>4.0</td>\n",
              "      <td>0</td>\n",
              "      <td>0</td>\n",
              "      <td>0</td>\n",
              "    </tr>\n",
              "    <tr>\n",
              "      <th>34</th>\n",
              "      <td>72</td>\n",
              "      <td>0</td>\n",
              "      <td>3</td>\n",
              "      <td>2</td>\n",
              "      <td>2</td>\n",
              "      <td>4.0</td>\n",
              "      <td>0</td>\n",
              "      <td>0</td>\n",
              "      <td>0</td>\n",
              "    </tr>\n",
              "    <tr>\n",
              "      <th>35</th>\n",
              "      <td>72</td>\n",
              "      <td>0</td>\n",
              "      <td>4</td>\n",
              "      <td>2</td>\n",
              "      <td>2</td>\n",
              "      <td>4.0</td>\n",
              "      <td>0</td>\n",
              "      <td>0</td>\n",
              "      <td>0</td>\n",
              "    </tr>\n",
              "    <tr>\n",
              "      <th>...</th>\n",
              "      <td>...</td>\n",
              "      <td>...</td>\n",
              "      <td>...</td>\n",
              "      <td>...</td>\n",
              "      <td>...</td>\n",
              "      <td>...</td>\n",
              "      <td>...</td>\n",
              "      <td>...</td>\n",
              "      <td>...</td>\n",
              "    </tr>\n",
              "    <tr>\n",
              "      <th>175416</th>\n",
              "      <td>59</td>\n",
              "      <td>2</td>\n",
              "      <td>96</td>\n",
              "      <td>49</td>\n",
              "      <td>15</td>\n",
              "      <td>1.0</td>\n",
              "      <td>0</td>\n",
              "      <td>0</td>\n",
              "      <td>0</td>\n",
              "    </tr>\n",
              "    <tr>\n",
              "      <th>186790</th>\n",
              "      <td>67</td>\n",
              "      <td>0</td>\n",
              "      <td>45</td>\n",
              "      <td>30</td>\n",
              "      <td>1</td>\n",
              "      <td>4.0</td>\n",
              "      <td>0</td>\n",
              "      <td>0</td>\n",
              "      <td>1</td>\n",
              "    </tr>\n",
              "    <tr>\n",
              "      <th>196205</th>\n",
              "      <td>29</td>\n",
              "      <td>1</td>\n",
              "      <td>73</td>\n",
              "      <td>49</td>\n",
              "      <td>15</td>\n",
              "      <td>0.0</td>\n",
              "      <td>0</td>\n",
              "      <td>0</td>\n",
              "      <td>0</td>\n",
              "    </tr>\n",
              "    <tr>\n",
              "      <th>207811</th>\n",
              "      <td>80</td>\n",
              "      <td>1</td>\n",
              "      <td>164</td>\n",
              "      <td>87</td>\n",
              "      <td>1</td>\n",
              "      <td>4.0</td>\n",
              "      <td>0</td>\n",
              "      <td>0</td>\n",
              "      <td>1</td>\n",
              "    </tr>\n",
              "    <tr>\n",
              "      <th>211158</th>\n",
              "      <td>59</td>\n",
              "      <td>2</td>\n",
              "      <td>1</td>\n",
              "      <td>1</td>\n",
              "      <td>1</td>\n",
              "      <td>4.0</td>\n",
              "      <td>0</td>\n",
              "      <td>0</td>\n",
              "      <td>0</td>\n",
              "    </tr>\n",
              "  </tbody>\n",
              "</table>\n",
              "<p>857 rows × 9 columns</p>\n",
              "</div>"
            ],
            "text/plain": [
              "        age  sex  city  ...  symptoms  lives_in_Wuhan  outcome\n",
              "3        59    2     1  ...         0               0        0\n",
              "32       72    0     2  ...         0               0        0\n",
              "33       72    0     2  ...         0               0        0\n",
              "34       72    0     3  ...         0               0        0\n",
              "35       72    0     4  ...         0               0        0\n",
              "...     ...  ...   ...  ...       ...             ...      ...\n",
              "175416   59    2    96  ...         0               0        0\n",
              "186790   67    0    45  ...         0               0        1\n",
              "196205   29    1    73  ...         0               0        0\n",
              "207811   80    1   164  ...         0               0        1\n",
              "211158   59    2     1  ...         0               0        0\n",
              "\n",
              "[857 rows x 9 columns]"
            ]
          },
          "metadata": {
            "tags": []
          },
          "execution_count": 12
        }
      ]
    },
    {
      "cell_type": "markdown",
      "metadata": {
        "id": "_VhgVmV7w7qL",
        "colab_type": "text"
      },
      "source": [
        "## Question 3\n",
        "\n",
        "* Split the data into train and test data sets. This can be done using any method, but consider using Scikit-learn's `StratifiedShuffleSplit` to maintain the same ratio of predictor classes.\n",
        "* Regardless of methods used to split the data, compare the ratio of classes in both the train and test splits."
      ]
    },
    {
      "cell_type": "code",
      "metadata": {
        "id": "ReYv9zDmw7qN",
        "colab_type": "code",
        "outputId": "32f54ae1-6c55-4d3f-84b2-93c62a46ca31",
        "colab": {
          "base_uri": "https://localhost:8080/",
          "height": 51
        }
      },
      "source": [
        "from sklearn.model_selection import StratifiedShuffleSplit\n",
        "\n",
        "totalclasses = np.bincount(encoutcome)\n",
        "printRed(f'{uniqoutcome[0]}: {totalclasses[0]},\\t{uniqoutcome[1]}: {totalclasses[1]}')\n",
        "\n",
        "X = encdf[[col for col in encdf.columns if col != 'outcome']].values\n",
        "y = encdf['outcome'].values\n",
        "sss = StratifiedShuffleSplit(n_splits=1, test_size=0.3, random_state=0)\n",
        "\n",
        "count=1\n",
        "for train_index, test_index in sss.split(X, y):\n",
        "  y_train = y[train_index]\n",
        "  y_test = y[test_index]\n",
        "  traincr = np.bincount(y_train) / totalclasses\n",
        "  testcr = np.bincount(y_test) / totalclasses\n",
        "  print(f'Split Ratio TRAIN #{count} {traincr}',f'\\tSplit Ratio TEST #{count} {testcr}')\n",
        "  count+=1"
      ],
      "execution_count": 13,
      "outputs": [
        {
          "output_type": "stream",
          "text": [
            "\u001b[31mrecovered: 668,\tdead: 189\u001b[0m\n",
            "Split Ratio TRAIN #1 [0.6991018 0.6984127] \tSplit Ratio TEST #1 [0.3008982 0.3015873]\n"
          ],
          "name": "stdout"
        }
      ]
    },
    {
      "cell_type": "markdown",
      "metadata": {
        "id": "JjxP8pIDw7qS",
        "colab_type": "text"
      },
      "source": [
        "## Question 4\n",
        "\n",
        "Let's now fit a Naive Bayes classifier to this data in order to predict \"outcome\".\n",
        "\n",
        "* Pick the appropriate type of Naive Bayes given the nature of your dataset (data types of columns).Choices are:\n",
        "    * GaussianNB\n",
        "    * MultinomialNB\n",
        "    * BernoulliNB\n",
        "* Use `cross_val_score` to see how well your choice works."
      ]
    },
    {
      "cell_type": "code",
      "metadata": {
        "id": "zvjpO67o4Nge",
        "colab_type": "code",
        "colab": {}
      },
      "source": [
        "from sklearn.model_selection import cross_val_score\n",
        "from sklearn.naive_bayes import GaussianNB\n",
        "from sklearn.naive_bayes import MultinomialNB\n",
        "from sklearn.naive_bayes import BernoulliNB"
      ],
      "execution_count": 0,
      "outputs": []
    },
    {
      "cell_type": "code",
      "metadata": {
        "id": "f8L6DBCH65PU",
        "colab_type": "code",
        "outputId": "5a2ff466-45d6-4699-fb62-8f220ddc9c31",
        "colab": {
          "base_uri": "https://localhost:8080/",
          "height": 102
        }
      },
      "source": [
        "printRed('Since the features have discrete values, I will choose MultinomialNB\\n')\n",
        "\n",
        "cv = 5\n",
        "mnb = MultinomialNB()\n",
        "mcvs = cross_val_score(mnb, X, y, cv=cv, n_jobs=-1)\n",
        "mavg = str(np.mean(mcvs)*100)[:4]\n",
        "print(f'MultinomialNB Cross Val Score: {mcvs}\\n')\n",
        "printRed(f'My choice works very well giving an average cross val score of {mavg} %')"
      ],
      "execution_count": 15,
      "outputs": [
        {
          "output_type": "stream",
          "text": [
            "\u001b[31mSince the features have discrete values, I will choose MultinomialNB\n",
            "\u001b[0m\n",
            "MultinomialNB Cross Val Score: [0.70930233 0.78488372 0.81871345 0.9122807  0.30994152]\n",
            "\n",
            "\u001b[31mMy choice works very well giving an average cross val score of 70.7 %\u001b[0m\n"
          ],
          "name": "stdout"
        }
      ]
    },
    {
      "cell_type": "markdown",
      "metadata": {
        "id": "SiP2NJznw7qX",
        "colab_type": "text"
      },
      "source": [
        "## Question 5\n",
        "\n",
        "Now let's try all types of Naive Bayes and observe what happens\n",
        "\n",
        "* Compare the cross validation scores for Gaussian, Bernouilli and Multinomial Naive Bayes.\n",
        "* Why is BernoulliNB performing like it does?"
      ]
    },
    {
      "cell_type": "code",
      "metadata": {
        "id": "ipnlCRkbw7qY",
        "colab_type": "code",
        "outputId": "d371482d-4943-4a91-c90a-5cf5aa16d5f5",
        "colab": {
          "base_uri": "https://localhost:8080/",
          "height": 136
        }
      },
      "source": [
        "gnb = GaussianNB()\n",
        "gcvs = cross_val_score(gnb, X, y, cv=cv, n_jobs=-1)\n",
        "gavg = str(np.mean(gcvs)*100)[:4]\n",
        "print(f'GaussianNB Cross Val Score:\\t{gcvs},\\tAverage acc: {gavg} %\\n')\n",
        "\n",
        "mnb = MultinomialNB()\n",
        "mcvs = cross_val_score(mnb, X, y, cv=cv, n_jobs=-1)\n",
        "mavg = str(np.mean(mcvs)*100)[:4]\n",
        "print(f'MultinomialNB Cross Val Score:\\t{mcvs},\\tAverage acc: {mavg} %\\n')\n",
        "\n",
        "bnb = BernoulliNB()\n",
        "bcvs = cross_val_score(bnb, X, y, cv=cv, n_jobs=-1)\n",
        "bavg = str(np.mean(bcvs)*100)[:4]\n",
        "print(f'BernoulliNB Cross Val Score:\\t{bcvs},\\tAverage acc: {bavg} %\\n')\n",
        "printRed(f'BernoulliNB has {bavg} % score due to the output features being binary (0,1)')"
      ],
      "execution_count": 16,
      "outputs": [
        {
          "output_type": "stream",
          "text": [
            "GaussianNB Cross Val Score:\t[0.68023256 0.71511628 0.83040936 0.87134503 0.53216374],\tAverage acc: 72.5 %\n",
            "\n",
            "MultinomialNB Cross Val Score:\t[0.70930233 0.78488372 0.81871345 0.9122807  0.30994152],\tAverage acc: 70.7 %\n",
            "\n",
            "BernoulliNB Cross Val Score:\t[0.63953488 0.90116279 0.84210526 0.86549708 0.69590643],\tAverage acc: 78.8 %\n",
            "\n",
            "\u001b[31mBernoulliNB has 78.8 % score due to the output features being binary (0,1)\u001b[0m\n"
          ],
          "name": "stdout"
        }
      ]
    },
    {
      "cell_type": "markdown",
      "metadata": {
        "id": "AQAhp3Gmw7qe",
        "colab_type": "text"
      },
      "source": [
        "## Question 6\n",
        "\n",
        "For each model, calculate the following error metrics: \n",
        "\n",
        "* accuracy\n",
        "* precision\n",
        "* recall\n",
        "* fscore\n",
        "* confusion matrix (plot)"
      ]
    },
    {
      "cell_type": "code",
      "metadata": {
        "id": "RUXL3JabX_zu",
        "colab_type": "code",
        "colab": {}
      },
      "source": [
        "from sklearn.metrics import accuracy_score\n",
        "from sklearn.metrics import precision_score\n",
        "from sklearn.metrics import recall_score\n",
        "from sklearn.metrics import f1_score\n",
        "from sklearn.metrics import plot_confusion_matrix\n",
        "import matplotlib.pyplot as plt"
      ],
      "execution_count": 0,
      "outputs": []
    },
    {
      "cell_type": "code",
      "metadata": {
        "id": "-oVFJblcw7qf",
        "colab_type": "code",
        "outputId": "4a841e8b-b0e9-411b-91ff-14f8328639f3",
        "colab": {
          "base_uri": "https://localhost:8080/",
          "height": 364
        }
      },
      "source": [
        "def getdetails(y_true, y_pred):\n",
        "  acc = accuracy_score(y_true, y_pred)\n",
        "  prc = precision_score(y_true, y_pred, average='binary')\n",
        "  rcl = recall_score(y_true, y_pred, average='binary')\n",
        "  fsc = f1_score(y_true, y_pred, average='binary')\n",
        "  print(f'Accuracy:\\t{acc}\\nPrecision:\\t{prc}\\nRecall:\\t\\t{rcl}\\nfscore:\\t\\t{fsc}')\n",
        "\n",
        "def getall(clf, X, y, splits):\n",
        "  for train_index, test_index in splits:\n",
        "    clf.fit(X[train_index], y[train_index])    \n",
        "    y_pred = clf.predict(X[test_index])\n",
        "    getdetails(y[test_index], y_pred)\n",
        "    plot_confusion_matrix(clf, X[test_index], y[test_index])\n",
        "\n",
        "printRed('\\tGaussianNB')\n",
        "getall(GaussianNB(), X, y, sss.split(X,y))"
      ],
      "execution_count": 18,
      "outputs": [
        {
          "output_type": "stream",
          "text": [
            "\u001b[31m\tGaussianNB\u001b[0m\n",
            "Accuracy:\t0.8527131782945736\n",
            "Precision:\t0.6862745098039216\n",
            "Recall:\t\t0.6140350877192983\n",
            "fscore:\t\t0.6481481481481481\n"
          ],
          "name": "stdout"
        },
        {
          "output_type": "display_data",
          "data": {
            "image/png": "[encoded data removed]",
            "text/plain": [
              "<Figure size 432x288 with 2 Axes>"
            ]
          },
          "metadata": {
            "tags": []
          }
        }
      ]
    },
    {
      "cell_type": "code",
      "metadata": {
        "id": "iimeelQWdItN",
        "colab_type": "code",
        "outputId": "ead4aadc-c8bf-4b2d-f001-4d1cd28eabe2",
        "colab": {
          "base_uri": "https://localhost:8080/",
          "height": 364
        }
      },
      "source": [
        "printRed('\\tMultinomialNB')\n",
        "getall(MultinomialNB(), X, y, sss.split(X,y))"
      ],
      "execution_count": 19,
      "outputs": [
        {
          "output_type": "stream",
          "text": [
            "\u001b[31m\tMultinomialNB\u001b[0m\n",
            "Accuracy:\t0.7325581395348837\n",
            "Precision:\t0.43023255813953487\n",
            "Recall:\t\t0.6491228070175439\n",
            "fscore:\t\t0.5174825174825174\n"
          ],
          "name": "stdout"
        },
        {
          "output_type": "display_data",
          "data": {
            "image/png": "[encoded data removed]",
            "text/plain": [
              "<Figure size 432x288 with 2 Axes>"
            ]
          },
          "metadata": {
            "tags": []
          }
        }
      ]
    },
    {
      "cell_type": "code",
      "metadata": {
        "id": "bXTBk3h4dKpz",
        "colab_type": "code",
        "outputId": "112a9b74-60b7-42fc-8fb1-f091eb39e06c",
        "colab": {
          "base_uri": "https://localhost:8080/",
          "height": 368
        }
      },
      "source": [
        "printRed('\\tBernoulliNB')\n",
        "getall(BernoulliNB(), X, y, sss.split(X,y))"
      ],
      "execution_count": 20,
      "outputs": [
        {
          "output_type": "stream",
          "text": [
            "\u001b[31m\tBernoulliNB\u001b[0m\n",
            "Accuracy:\t0.8333333333333334\n",
            "Precision:\t0.625\n",
            "Recall:\t\t0.6140350877192983\n",
            "fscore:\t\t0.6194690265486725\n"
          ],
          "name": "stdout"
        },
        {
          "output_type": "display_data",
          "data": {
            "image/png": "[encoded data removed]",
            "text/plain": [
              "<Figure size 432x288 with 2 Axes>"
            ]
          },
          "metadata": {
            "tags": []
          }
        }
      ]
    },
    {
      "cell_type": "markdown",
      "metadata": {
        "id": "5-fZ6S-Nw7qk",
        "colab_type": "text"
      },
      "source": [
        "## Question 7\n",
        "Let's dive more into the feature analysis.\n",
        "* Create a bar plot showing the correlations between each column and `outcome`\n",
        "* Pick the most 5 correlated fields (using the absolute value of correlations) and create new `X`\n",
        "* Re-train your chosen Naive Bayes classifier to this data, and compare results"
      ]
    },
    {
      "cell_type": "code",
      "metadata": {
        "id": "rC8KNno8w7ql",
        "colab_type": "code",
        "outputId": "a11c67d0-bd01-476b-c391-91dcb27ba905",
        "colab": {
          "base_uri": "https://localhost:8080/",
          "height": 523
        }
      },
      "source": [
        "corr_matrix = encdf.corr()['outcome'].abs()\n",
        "print(corr_matrix)\n",
        "\n",
        "xaxis = corr_matrix[1:].keys()\n",
        "yaxis = corr_matrix[1:]\n",
        "\n",
        "plt.figure(num=None, figsize=(15, 5), dpi=80, facecolor='w', edgecolor='k')\n",
        "plt.bar(xaxis,yaxis)\n",
        "plt.grid(True)\n",
        "plt.show()\n",
        "\n",
        "corr_matrix = corr_matrix.sort_values(ascending=False)\n",
        "xaxis = corr_matrix[1:].keys()\n",
        "topcols = list(xaxis[:5])\n",
        "topcols.append('outcome')\n",
        "\n",
        "newdf = encdf.copy()\n",
        "newdf = newdf[topcols]"
      ],
      "execution_count": 25,
      "outputs": [
        {
          "output_type": "stream",
          "text": [
            "age                        0.095375\n",
            "sex                        0.246629\n",
            "city                       0.326870\n",
            "province                   0.318722\n",
            "country                    0.075458\n",
            "date_admission_hospital    0.092647\n",
            "symptoms                   0.452854\n",
            "lives_in_Wuhan             0.185403\n",
            "outcome                    1.000000\n",
            "Name: outcome, dtype: float64\n"
          ],
          "name": "stdout"
        },
        {
          "output_type": "display_data",
          "data": {
            "image/png": "[encoded data removed]",
            "text/plain": [
              "<Figure size 1200x400 with 1 Axes>"
            ]
          },
          "metadata": {
            "tags": []
          }
        }
      ]
    },
    {
      "cell_type": "code",
      "metadata": {
        "id": "WnABLDoZkabD",
        "colab_type": "code",
        "outputId": "4faf8d1e-d112-44f8-f5fd-a0fa409f1650",
        "colab": {
          "base_uri": "https://localhost:8080/",
          "height": 449
        }
      },
      "source": [
        "printRed('Retraining chosen MultinomialNB\\n')\n",
        "\n",
        "X_new = newdf[[col for col in newdf.columns if col != 'outcome']].values\n",
        "y_new = newdf['outcome'].values\n",
        "\n",
        "cv = 5\n",
        "mnb = MultinomialNB()\n",
        "mcvs = cross_val_score(mnb, X_new, y_new, cv=cv, n_jobs=-1)\n",
        "mavg_new = str(np.mean(mcvs)*100)[:4]\n",
        "print(f'MultinomialNB Cross Val Score: {mcvs}\\n')\n",
        "printRed(f'Average cross val score has increased from {mavg} % to {mavg_new} %\\n')\n",
        "\n",
        "getall(MultinomialNB(), X_new, y_new, sss.split(X_new,y_new))"
      ],
      "execution_count": 26,
      "outputs": [
        {
          "output_type": "stream",
          "text": [
            "\u001b[31mRetraining chosen MultinomialNB\n",
            "\u001b[0m\n",
            "MultinomialNB Cross Val Score: [0.71511628 0.8372093  0.83040936 0.91812865 0.73684211]\n",
            "\n",
            "\u001b[31mAverage cross val score has increased from 70.7 % to 80.7 %\n",
            "\u001b[0m\n",
            "Accuracy:\t0.8449612403100775\n",
            "Precision:\t0.6808510638297872\n",
            "Recall:\t\t0.5614035087719298\n",
            "fscore:\t\t0.6153846153846153\n"
          ],
          "name": "stdout"
        },
        {
          "output_type": "display_data",
          "data": {
            "image/png": "[encoded data removed]",
            "text/plain": [
              "<Figure size 432x288 with 2 Axes>"
            ]
          },
          "metadata": {
            "tags": []
          }
        }
      ]
    },
    {
      "cell_type": "markdown",
      "metadata": {
        "id": "VPPztZCvw7qo",
        "colab_type": "text"
      },
      "source": [
        "<hr>"
      ]
    },
    {
      "cell_type": "markdown",
      "metadata": {
        "id": "Mf5Eu_92w7qp",
        "colab_type": "text"
      },
      "source": [
        "# Section 2"
      ]
    },
    {
      "cell_type": "markdown",
      "metadata": {
        "id": "A7XieTb8w7qq",
        "colab_type": "text"
      },
      "source": [
        "In this section will use [Novel Coronavirus COVID-19 (2019-nCoV) Data Repository by Johns Hopkins CSSE](https://github.com/CSSEGISandData/COVID-19) to observe the spreading trend of COVID-19. You are required to use the data reported till **31-March-2020**."
      ]
    },
    {
      "cell_type": "markdown",
      "metadata": {
        "id": "Bu_Q5ouGw7qr",
        "colab_type": "text"
      },
      "source": [
        "## Question 1\n",
        "Use `time_series_covid19_confirmed_global.csv` and plot the trend of disease spread in 10 most affected countries."
      ]
    },
    {
      "cell_type": "code",
      "metadata": {
        "id": "Rqii6I5ww7qs",
        "colab_type": "code",
        "outputId": "4130ef06-cf23-465e-bd7f-ee8fa880ab47",
        "colab": {
          "base_uri": "https://localhost:8080/",
          "height": 527
        }
      },
      "source": [
        "def countrywise(df, allCountries, uniqcountries):\n",
        "  lists = list()\n",
        "  for i in uniqcountries:\n",
        "    index = np.where(allCountries == i)\n",
        "    rows = df.iloc[index].values[:,4:]\n",
        "    confirmsum = rows.sum(axis=0)\n",
        "    lists.append([i,confirmsum])\n",
        "  return lists\n",
        "\n",
        "stwodf = pd.read_csv('time_series_covid19_confirmed_global.csv')\n",
        "stwodf = stwodf.iloc[:,:14+29+31] #get first columns till 31st March\n",
        "cols = stwodf.columns[4:]\n",
        "\n",
        "allcountries = stwodf['Country/Region'].values\n",
        "uniqcountries = np.unique(allcountries)\n",
        "\n",
        "cnt = countrywise(stwodf, allcountries, uniqcountries)\n",
        "cntdesc = np.array(sorted(cnt,key=lambda l:l[1][-1], reverse=True)) #descending order wrt 2nd column\n",
        "topten = cntdesc[:10]\n",
        "\n",
        "plt.figure(num=None, figsize=(20, 8), dpi=80, facecolor='w', edgecolor='k')\n",
        "for i in range(10):\n",
        "  plt.plot(cols, topten[:,1][i], label = topten[:,0][i])\n",
        "plt.yscale('log')\n",
        "plt.tick_params(axis='both', which='major', labelsize=12)\n",
        "plt.xticks(np.arange(1, len(cols),4))\n",
        "plt.xlabel('Dates')\n",
        "plt.ylabel('Count (in log scale)')\n",
        "plt.grid(True)\n",
        "plt.legend()\n",
        "plt.show()"
      ],
      "execution_count": 80,
      "outputs": [
        {
          "output_type": "display_data",
          "data": {
            "image/png": "[encoded data removed]",
            "text/plain": [
              "<Figure size 1600x640 with 1 Axes>"
            ]
          },
          "metadata": {
            "tags": []
          }
        }
      ]
    },
    {
      "cell_type": "markdown",
      "metadata": {
        "id": "yxnpMCDlw7qx",
        "colab_type": "text"
      },
      "source": [
        "## Question 2\n",
        "Use `csse_covid_19_daily_reports` to compare the mortality and survival rates in 10 most affected countries as of 31-March-2020."
      ]
    },
    {
      "cell_type": "code",
      "metadata": {
        "id": "wP-dFdNVw7q0",
        "colab_type": "code",
        "outputId": "2e60bc60-2cdd-445e-8834-2aa9e58835b9",
        "colab": {
          "base_uri": "https://localhost:8080/",
          "height": 357
        }
      },
      "source": [
        "def gettopcountries(uniqcnt, drdf):  \n",
        "  allcnt = list()\n",
        "  for i in uniqcnt:\n",
        "    rows = drdf.loc[drdf['Country_Region'] == i]\n",
        "    confirmed = rows['Confirmed'].sum()\n",
        "    deaths = rows['Deaths'].sum()\n",
        "    recovered = rows['Recovered'].sum()\n",
        "    allcnt.append([i,confirmed,deaths,recovered])\n",
        "  return allcnt\n",
        "\n",
        "def formats(a,b):\n",
        "  return str(a/b*100)[:4]\n",
        "\n",
        "def getrates(countries):\n",
        "  for i in countries:\n",
        "    printRed(i[0])\n",
        "    print(f'Mortality Rate: {formats(i[2],i[1])} % \\tSurvival Rate: {formats(i[2],i[1])} %')\n",
        "\n",
        "drdf = pd.read_csv('csse_covid_19_daily_reports.csv')\n",
        "uniqcnt = np.unique(drdf['Country_Region'].values)\n",
        "\n",
        "allcnt = gettopcountries(uniqcnt, drdf)\n",
        "topcnt = sorted(allcnt,key=lambda x: x[1], reverse=True)[:10]\n",
        "getrates(topcnt)"
      ],
      "execution_count": 28,
      "outputs": [
        {
          "output_type": "stream",
          "text": [
            "\u001b[31mUS\u001b[0m\n",
            "Mortality Rate: 2.05 % \tSurvival Rate: 2.05 %\n",
            "\u001b[31mItaly\u001b[0m\n",
            "Mortality Rate: 11.7 % \tSurvival Rate: 11.7 %\n",
            "\u001b[31mSpain\u001b[0m\n",
            "Mortality Rate: 8.82 % \tSurvival Rate: 8.82 %\n",
            "\u001b[31mChina\u001b[0m\n",
            "Mortality Rate: 4.02 % \tSurvival Rate: 4.02 %\n",
            "\u001b[31mGermany\u001b[0m\n",
            "Mortality Rate: 1.07 % \tSurvival Rate: 1.07 %\n",
            "\u001b[31mFrance\u001b[0m\n",
            "Mortality Rate: 6.68 % \tSurvival Rate: 6.68 %\n",
            "\u001b[31mIran\u001b[0m\n",
            "Mortality Rate: 6.49 % \tSurvival Rate: 6.49 %\n",
            "\u001b[31mUnited Kingdom\u001b[0m\n",
            "Mortality Rate: 7.03 % \tSurvival Rate: 7.03 %\n",
            "\u001b[31mSwitzerland\u001b[0m\n",
            "Mortality Rate: 2.60 % \tSurvival Rate: 2.60 %\n",
            "\u001b[31mTurkey\u001b[0m\n",
            "Mortality Rate: 1.58 % \tSurvival Rate: 1.58 %\n"
          ],
          "name": "stdout"
        }
      ]
    },
    {
      "cell_type": "markdown",
      "metadata": {
        "id": "THE86dwCw7q4",
        "colab_type": "text"
      },
      "source": [
        "## Question 3\n",
        "Identify top 5 countries (min 1000 cases) which have same spread trend as **Pakistan**. Compare progression of virus in 7 days moving window of these countries in terms of confirmed cases, deaths, and recoveries."
      ]
    },
    {
      "cell_type": "code",
      "metadata": {
        "id": "sFxi38YRw7q5",
        "colab_type": "code",
        "colab": {
          "base_uri": "https://localhost:8080/",
          "height": 34
        },
        "outputId": "d09b45d8-7d01-4903-e10e-6f15a3746131"
      },
      "source": [
        "def getminthousands(countries):\n",
        "  minthousand = list()\n",
        "  for i in countries:\n",
        "    if i[1][-1]>999:\n",
        "      if i[0]=='Pakistan':\n",
        "        pak = [i[0],i[1]]\n",
        "      else:\n",
        "        minthousand.append([i[0],i[1]])\n",
        "  return pak, minthousand\n",
        "\n",
        "def finddeviation(pak, restcountries):\n",
        "  dev = list()\n",
        "  for i in restcountries:\n",
        "    subsum = sum(np.abs(i[1]-pak[1]))\n",
        "    dev.append([i[0],subsum])    \n",
        "  return np.array(sorted(dev,key=lambda l:l[1]))\n",
        "\n",
        "pak, minthousand = getminthousands(cntdesc) # getting Pakistan and rest countries with atleast 1000 cases\n",
        "dev = finddeviation(pak, minthousand)       # countries with least deviation from Pakistan (in ascending order)\n",
        "topfive = dev[:5][:,0]\n",
        "print(topfive)"
      ],
      "execution_count": 103,
      "outputs": [
        {
          "output_type": "stream",
          "text": [
            "['Poland' 'Luxembourg' 'Ecuador' 'Romania' 'Saudi Arabia']\n"
          ],
          "name": "stdout"
        }
      ]
    },
    {
      "cell_type": "code",
      "metadata": {
        "id": "JH7NBBp-7E9_",
        "colab_type": "code",
        "colab": {}
      },
      "source": [
        ""
      ],
      "execution_count": 0,
      "outputs": []
    },
    {
      "cell_type": "markdown",
      "metadata": {
        "id": "qEOY7iodw7q8",
        "colab_type": "text"
      },
      "source": [
        "<hr>"
      ]
    },
    {
      "cell_type": "markdown",
      "metadata": {
        "id": "DypD_pajw7q9",
        "colab_type": "text"
      },
      "source": [
        "## Bonus\n",
        "Calculate and plot the min, max, average, median number of days for a patient to recover using one of the data files mentioned above. <br>**Hint:** use `boxplot`"
      ]
    },
    {
      "cell_type": "code",
      "metadata": {
        "id": "cYESjzL6w7q9",
        "colab_type": "code",
        "colab": {}
      },
      "source": [
        ""
      ],
      "execution_count": 0,
      "outputs": []
    }
  ]
}